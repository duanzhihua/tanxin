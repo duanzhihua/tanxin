{
 "cells": [
  {
   "cell_type": "code",
   "execution_count": 21,
   "metadata": {},
   "outputs": [],
   "source": [
    "import numpy as np\n",
    "import pandas as pd\n",
    "from math import log"
   ]
  },
  {
   "cell_type": "code",
   "execution_count": 22,
   "metadata": {},
   "outputs": [
    {
     "output_type": "execute_result",
     "data": {
      "text/plain": "   humility   outlook play  temp  windy\n0      high     sunny   no   hot  False\n1      high     sunny   no   hot   True\n2      high  overcast  yes   hot  False\n3      high     rainy  yes  mild  False\n4    normal     rainy  yes  cool  False\n5    normal     rainy   no  cool   True\n6    normal  overcast  yes  cool   True\n7      high     sunny   no  mild  False\n8    normal     sunny  yes  cool  False\n9    normal     rainy  yes  mild  False\n10   normal     sunny  yes  mild   True\n11     high  overcast  yes  mild   True\n12   normal  overcast  yes   hot  False\n13     high     rainy   no  mild   True",
      "text/html": "<div>\n<style scoped>\n    .dataframe tbody tr th:only-of-type {\n        vertical-align: middle;\n    }\n\n    .dataframe tbody tr th {\n        vertical-align: top;\n    }\n\n    .dataframe thead th {\n        text-align: right;\n    }\n</style>\n<table border=\"1\" class=\"dataframe\">\n  <thead>\n    <tr style=\"text-align: right;\">\n      <th></th>\n      <th>humility</th>\n      <th>outlook</th>\n      <th>play</th>\n      <th>temp</th>\n      <th>windy</th>\n    </tr>\n  </thead>\n  <tbody>\n    <tr>\n      <th>0</th>\n      <td>high</td>\n      <td>sunny</td>\n      <td>no</td>\n      <td>hot</td>\n      <td>False</td>\n    </tr>\n    <tr>\n      <th>1</th>\n      <td>high</td>\n      <td>sunny</td>\n      <td>no</td>\n      <td>hot</td>\n      <td>True</td>\n    </tr>\n    <tr>\n      <th>2</th>\n      <td>high</td>\n      <td>overcast</td>\n      <td>yes</td>\n      <td>hot</td>\n      <td>False</td>\n    </tr>\n    <tr>\n      <th>3</th>\n      <td>high</td>\n      <td>rainy</td>\n      <td>yes</td>\n      <td>mild</td>\n      <td>False</td>\n    </tr>\n    <tr>\n      <th>4</th>\n      <td>normal</td>\n      <td>rainy</td>\n      <td>yes</td>\n      <td>cool</td>\n      <td>False</td>\n    </tr>\n    <tr>\n      <th>5</th>\n      <td>normal</td>\n      <td>rainy</td>\n      <td>no</td>\n      <td>cool</td>\n      <td>True</td>\n    </tr>\n    <tr>\n      <th>6</th>\n      <td>normal</td>\n      <td>overcast</td>\n      <td>yes</td>\n      <td>cool</td>\n      <td>True</td>\n    </tr>\n    <tr>\n      <th>7</th>\n      <td>high</td>\n      <td>sunny</td>\n      <td>no</td>\n      <td>mild</td>\n      <td>False</td>\n    </tr>\n    <tr>\n      <th>8</th>\n      <td>normal</td>\n      <td>sunny</td>\n      <td>yes</td>\n      <td>cool</td>\n      <td>False</td>\n    </tr>\n    <tr>\n      <th>9</th>\n      <td>normal</td>\n      <td>rainy</td>\n      <td>yes</td>\n      <td>mild</td>\n      <td>False</td>\n    </tr>\n    <tr>\n      <th>10</th>\n      <td>normal</td>\n      <td>sunny</td>\n      <td>yes</td>\n      <td>mild</td>\n      <td>True</td>\n    </tr>\n    <tr>\n      <th>11</th>\n      <td>high</td>\n      <td>overcast</td>\n      <td>yes</td>\n      <td>mild</td>\n      <td>True</td>\n    </tr>\n    <tr>\n      <th>12</th>\n      <td>normal</td>\n      <td>overcast</td>\n      <td>yes</td>\n      <td>hot</td>\n      <td>False</td>\n    </tr>\n    <tr>\n      <th>13</th>\n      <td>high</td>\n      <td>rainy</td>\n      <td>no</td>\n      <td>mild</td>\n      <td>True</td>\n    </tr>\n  </tbody>\n</table>\n</div>"
     },
     "metadata": {},
     "execution_count": 22
    }
   ],
   "source": [
    "df = pd.read_csv('./example_data.csv')\n",
    "df"
   ]
  },
  {
   "cell_type": "code",
   "execution_count": 23,
   "metadata": {},
   "outputs": [],
   "source": [
    "def entropy(ele):\n",
    "    '''\n",
    "    function: Calculating entropy value.\n",
    "    input: A list contain categorical value.\n",
    "    output: Entropy value.\n",
    "    entropy = - sum(p * log(p)), p is a prob value.\n",
    "    '''\n",
    "    # Calculating the probability distribution of list value\n",
    "    probs = [ele.count(i)/len(ele) for i in set(ele)]\n",
    "    # Calculating entropy value\n",
    "    entropy = -sum([prob*log(prob, 2) for prob in probs])\n",
    "    return entropy"
   ]
  },
  {
   "cell_type": "code",
   "execution_count": 24,
   "metadata": {},
   "outputs": [
    {
     "output_type": "execute_result",
     "data": {
      "text/plain": "0.9402859586706309"
     },
     "metadata": {},
     "execution_count": 24
    }
   ],
   "source": [
    "entropy(df['play'].tolist())"
   ]
  },
  {
   "cell_type": "code",
   "execution_count": 25,
   "metadata": {},
   "outputs": [],
   "source": [
    "def split_dataframe(data, col):\n",
    "    '''\n",
    "    function: split pandas dataframe to sub-df based on data and column.\n",
    "    input: dataframe, column name.\n",
    "    output: a dict of splited dataframe.\n",
    "    '''\n",
    "    # unique value of column\n",
    "    unique_values = data[col].unique()\n",
    "    # empty dict of dataframe\n",
    "    result_dict = {elem : pd.DataFrame for elem in unique_values} #特征列col上的所有特征值，做诶\n",
    "\n",
    "    print (result_dict)\n",
    "    # split dataframe based on column value\n",
    "    for key in result_dict.keys():\n",
    "        result_dict[key] = data[:][data[col] == key]   ## ?? 这个地方没看懂\n",
    "    return result_dict"
   ]
  },
  {
   "cell_type": "code",
   "execution_count": 26,
   "metadata": {
    "tags": []
   },
   "outputs": [
    {
     "output_type": "stream",
     "name": "stdout",
     "text": "{'hot': <class 'pandas.core.frame.DataFrame'>, 'mild': <class 'pandas.core.frame.DataFrame'>, 'cool': <class 'pandas.core.frame.DataFrame'>}\n"
    },
    {
     "output_type": "execute_result",
     "data": {
      "text/plain": "{'hot':    humility   outlook play temp  windy\n 0      high     sunny   no  hot  False\n 1      high     sunny   no  hot   True\n 2      high  overcast  yes  hot  False\n 12   normal  overcast  yes  hot  False,\n 'mild':    humility   outlook play  temp  windy\n 3      high     rainy  yes  mild  False\n 7      high     sunny   no  mild  False\n 9    normal     rainy  yes  mild  False\n 10   normal     sunny  yes  mild   True\n 11     high  overcast  yes  mild   True\n 13     high     rainy   no  mild   True,\n 'cool':   humility   outlook play  temp  windy\n 4   normal     rainy  yes  cool  False\n 5   normal     rainy   no  cool   True\n 6   normal  overcast  yes  cool   True\n 8   normal     sunny  yes  cool  False}"
     },
     "metadata": {},
     "execution_count": 26
    }
   ],
   "source": [
    "split_example = split_dataframe(df, 'temp')\n",
    "split_example"
   ]
  },
  {
   "cell_type": "code",
   "execution_count": 27,
   "metadata": {
    "tags": []
   },
   "outputs": [
    {
     "output_type": "stream",
     "name": "stdout",
     "text": "hot    humility   outlook play temp  windy\n0      high     sunny   no  hot  False\n1      high     sunny   no  hot   True\n2      high  overcast  yes  hot  False\n12   normal  overcast  yes  hot  False\nmild    humility   outlook play  temp  windy\n3      high     rainy  yes  mild  False\n7      high     sunny   no  mild  False\n9    normal     rainy  yes  mild  False\n10   normal     sunny  yes  mild   True\n11     high  overcast  yes  mild   True\n13     high     rainy   no  mild   True\ncool   humility   outlook play  temp  windy\n4   normal     rainy  yes  cool  False\n5   normal     rainy   no  cool   True\n6   normal  overcast  yes  cool   True\n8   normal     sunny  yes  cool  False\n"
    }
   ],
   "source": [
    "for item, value in split_example.items():\n",
    "    print(item, value)"
   ]
  },
  {
   "cell_type": "code",
   "execution_count": 28,
   "metadata": {
    "tags": []
   },
   "outputs": [
    {
     "output_type": "stream",
     "name": "stdout",
     "text": "{'high': <class 'pandas.core.frame.DataFrame'>, 'normal': <class 'pandas.core.frame.DataFrame'>}\n{'sunny': <class 'pandas.core.frame.DataFrame'>, 'overcast': <class 'pandas.core.frame.DataFrame'>, 'rainy': <class 'pandas.core.frame.DataFrame'>}\n{'hot': <class 'pandas.core.frame.DataFrame'>, 'mild': <class 'pandas.core.frame.DataFrame'>, 'cool': <class 'pandas.core.frame.DataFrame'>}\n{False: <class 'pandas.core.frame.DataFrame'>, True: <class 'pandas.core.frame.DataFrame'>}\n"
    },
    {
     "output_type": "execute_result",
     "data": {
      "text/plain": "(0.2467498197744391,\n 'outlook',\n {'sunny':    humility outlook play  temp  windy\n  0      high   sunny   no   hot  False\n  1      high   sunny   no   hot   True\n  7      high   sunny   no  mild  False\n  8    normal   sunny  yes  cool  False\n  10   normal   sunny  yes  mild   True,\n  'overcast':    humility   outlook play  temp  windy\n  2      high  overcast  yes   hot  False\n  6    normal  overcast  yes  cool   True\n  11     high  overcast  yes  mild   True\n  12   normal  overcast  yes   hot  False,\n  'rainy':    humility outlook play  temp  windy\n  3      high   rainy  yes  mild  False\n  4    normal   rainy  yes  cool  False\n  5    normal   rainy   no  cool   True\n  9    normal   rainy  yes  mild  False\n  13     high   rainy   no  mild   True})"
     },
     "metadata": {},
     "execution_count": 28
    }
   ],
   "source": [
    "def choose_best_col(df, label):\n",
    "    '''\n",
    "    funtion: choose the best column based on infomation gain.\n",
    "    input: datafram, label\n",
    "    output: max infomation gain, best column, \n",
    "            splited dataframe dict based on best column.\n",
    "    '''\n",
    "    # Calculating label's entropy\n",
    "    entropy_D = entropy(df[label].tolist())\n",
    "    # columns list except label\n",
    "    cols = [col for col in df.columns if col not in [label]]\n",
    "    # initialize the max infomation gain, best column and best splited dict\n",
    "    max_value, best_col = -999, None\n",
    "    max_splited = None\n",
    "    # split data based on different column\n",
    "    for col in cols:\n",
    "        splited_set = split_dataframe(df, col)\n",
    "        entropy_DA = 0\n",
    "        for subset_col, subset in splited_set.items():\n",
    "            # calculating splited dataframe label's entropy\n",
    "            entropy_Di = entropy(subset[label].tolist())\n",
    "            # calculating entropy of current feature\n",
    "            entropy_DA += len(subset)/len(df) * entropy_Di\n",
    "        # calculating infomation gain of current feature\n",
    "        info_gain = entropy_D - entropy_DA\n",
    "        \n",
    "        if info_gain > max_value:\n",
    "            max_value, best_col = info_gain, col\n",
    "            max_splited = splited_set\n",
    "    return max_value, best_col, max_splited\n",
    "    \n",
    "choose_best_col(df, 'play')"
   ]
  },
  {
   "cell_type": "code",
   "execution_count": 29,
   "metadata": {},
   "outputs": [],
   "source": [
    "class ID3Tree:\n",
    "    # define a Node class\n",
    "    class Node:\n",
    "        def __init__(self, name):\n",
    "            self.name = name\n",
    "            self.connections = {}\n",
    "\n",
    "        def connect(self, label, node):\n",
    "            self.connections[label] = node\n",
    "            \n",
    "    def __init__(self, data, label):\n",
    "        self.columns = data.columns\n",
    "        self.data = data\n",
    "        self.label = label\n",
    "        self.root = self.Node(\"Root\")\n",
    "    \n",
    "    # print tree method\n",
    "    def print_tree(self, node, tabs):\n",
    "        print(tabs + node.name)\n",
    "        for connection, child_node in node.connections.items():\n",
    "            print(tabs + \"\\t\" + \"(\" + connection + \")\")\n",
    "            self.print_tree(child_node, tabs + \"\\t\\t\")\n",
    "    \n",
    "    def construct_tree(self):\n",
    "        self.construct(self.root, \"\", self.data, self.columns)\n",
    "    \n",
    "    # construct tree\n",
    "    def construct(self, parent_node, parent_connection_label, input_data, columns):\n",
    "        max_value, best_col, max_splited = choose_best_col(input_data[columns], self.label)\n",
    "        \n",
    "        if not best_col:\n",
    "            node = self.Node(input_data[self.label].iloc[0])\n",
    "            parent_node.connect(parent_connection_label, node)\n",
    "            return\n",
    "\n",
    "        node = self.Node(best_col)\n",
    "        parent_node.connect(parent_connection_label, node)\n",
    "        \n",
    "        new_columns = [col for col in columns if col != best_col]\n",
    "        \n",
    "        # Recursively constructing decision trees\n",
    "        for splited_value, splited_data in max_splited.items():\n",
    "            self.construct(node, splited_value, splited_data, new_columns)"
   ]
  },
  {
   "cell_type": "code",
   "execution_count": 30,
   "metadata": {
    "tags": []
   },
   "outputs": [
    {
     "output_type": "stream",
     "name": "stdout",
     "text": "{'high': <class 'pandas.core.frame.DataFrame'>, 'normal': <class 'pandas.core.frame.DataFrame'>}\n{'sunny': <class 'pandas.core.frame.DataFrame'>, 'overcast': <class 'pandas.core.frame.DataFrame'>, 'rainy': <class 'pandas.core.frame.DataFrame'>}\n{'hot': <class 'pandas.core.frame.DataFrame'>, 'mild': <class 'pandas.core.frame.DataFrame'>, 'cool': <class 'pandas.core.frame.DataFrame'>}\n{False: <class 'pandas.core.frame.DataFrame'>, True: <class 'pandas.core.frame.DataFrame'>}\n{'high': <class 'pandas.core.frame.DataFrame'>, 'normal': <class 'pandas.core.frame.DataFrame'>}\n{'hot': <class 'pandas.core.frame.DataFrame'>, 'mild': <class 'pandas.core.frame.DataFrame'>, 'cool': <class 'pandas.core.frame.DataFrame'>}\n{False: <class 'pandas.core.frame.DataFrame'>, True: <class 'pandas.core.frame.DataFrame'>}\n{'hot': <class 'pandas.core.frame.DataFrame'>, 'mild': <class 'pandas.core.frame.DataFrame'>}\n{False: <class 'pandas.core.frame.DataFrame'>, True: <class 'pandas.core.frame.DataFrame'>}\n{False: <class 'pandas.core.frame.DataFrame'>, True: <class 'pandas.core.frame.DataFrame'>}\n{False: <class 'pandas.core.frame.DataFrame'>}\n{'cool': <class 'pandas.core.frame.DataFrame'>, 'mild': <class 'pandas.core.frame.DataFrame'>}\n{False: <class 'pandas.core.frame.DataFrame'>, True: <class 'pandas.core.frame.DataFrame'>}\n{False: <class 'pandas.core.frame.DataFrame'>}\n{True: <class 'pandas.core.frame.DataFrame'>}\n{'high': <class 'pandas.core.frame.DataFrame'>, 'normal': <class 'pandas.core.frame.DataFrame'>}\n{'hot': <class 'pandas.core.frame.DataFrame'>, 'cool': <class 'pandas.core.frame.DataFrame'>, 'mild': <class 'pandas.core.frame.DataFrame'>}\n{False: <class 'pandas.core.frame.DataFrame'>, True: <class 'pandas.core.frame.DataFrame'>}\n{'hot': <class 'pandas.core.frame.DataFrame'>, 'mild': <class 'pandas.core.frame.DataFrame'>}\n{False: <class 'pandas.core.frame.DataFrame'>, True: <class 'pandas.core.frame.DataFrame'>}\n{False: <class 'pandas.core.frame.DataFrame'>}\n{True: <class 'pandas.core.frame.DataFrame'>}\n{'cool': <class 'pandas.core.frame.DataFrame'>, 'hot': <class 'pandas.core.frame.DataFrame'>}\n{True: <class 'pandas.core.frame.DataFrame'>, False: <class 'pandas.core.frame.DataFrame'>}\n{True: <class 'pandas.core.frame.DataFrame'>}\n{False: <class 'pandas.core.frame.DataFrame'>}\n{'high': <class 'pandas.core.frame.DataFrame'>, 'normal': <class 'pandas.core.frame.DataFrame'>}\n{'mild': <class 'pandas.core.frame.DataFrame'>, 'cool': <class 'pandas.core.frame.DataFrame'>}\n{False: <class 'pandas.core.frame.DataFrame'>, True: <class 'pandas.core.frame.DataFrame'>}\n{'high': <class 'pandas.core.frame.DataFrame'>, 'normal': <class 'pandas.core.frame.DataFrame'>}\n{'mild': <class 'pandas.core.frame.DataFrame'>, 'cool': <class 'pandas.core.frame.DataFrame'>}\n{'mild': <class 'pandas.core.frame.DataFrame'>}\n{'cool': <class 'pandas.core.frame.DataFrame'>, 'mild': <class 'pandas.core.frame.DataFrame'>}\n{'normal': <class 'pandas.core.frame.DataFrame'>, 'high': <class 'pandas.core.frame.DataFrame'>}\n{'cool': <class 'pandas.core.frame.DataFrame'>, 'mild': <class 'pandas.core.frame.DataFrame'>}\n{'cool': <class 'pandas.core.frame.DataFrame'>}\n{'mild': <class 'pandas.core.frame.DataFrame'>}\nRoot\n\t()\n\t\toutlook\n\t\t\t(sunny)\n\t\t\t\thumility\n\t\t\t\t\t(high)\n\t\t\t\t\t\ttemp\n\t\t\t\t\t\t\t(hot)\n\t\t\t\t\t\t\t\twindy\n"
    },
    {
     "output_type": "error",
     "ename": "TypeError",
     "evalue": "can only concatenate str (not \"numpy.bool_\") to str",
     "traceback": [
      "\u001b[0;31m---------------------------------------------------------------------------\u001b[0m",
      "\u001b[0;31mTypeError\u001b[0m                                 Traceback (most recent call last)",
      "\u001b[0;32m<ipython-input-30-9e6ada9c1aa6>\u001b[0m in \u001b[0;36m<module>\u001b[0;34m\u001b[0m\n\u001b[1;32m      1\u001b[0m \u001b[0mtree1\u001b[0m \u001b[0;34m=\u001b[0m \u001b[0mID3Tree\u001b[0m\u001b[0;34m(\u001b[0m\u001b[0mdf\u001b[0m\u001b[0;34m,\u001b[0m \u001b[0;34m'play'\u001b[0m\u001b[0;34m)\u001b[0m\u001b[0;34m\u001b[0m\u001b[0;34m\u001b[0m\u001b[0m\n\u001b[1;32m      2\u001b[0m \u001b[0mtree1\u001b[0m\u001b[0;34m.\u001b[0m\u001b[0mconstruct_tree\u001b[0m\u001b[0;34m(\u001b[0m\u001b[0;34m)\u001b[0m\u001b[0;34m\u001b[0m\u001b[0;34m\u001b[0m\u001b[0m\n\u001b[0;32m----> 3\u001b[0;31m \u001b[0mtree1\u001b[0m\u001b[0;34m.\u001b[0m\u001b[0mprint_tree\u001b[0m\u001b[0;34m(\u001b[0m\u001b[0mtree1\u001b[0m\u001b[0;34m.\u001b[0m\u001b[0mroot\u001b[0m\u001b[0;34m,\u001b[0m \u001b[0;34m\"\"\u001b[0m\u001b[0;34m)\u001b[0m\u001b[0;34m\u001b[0m\u001b[0;34m\u001b[0m\u001b[0m\n\u001b[0m",
      "\u001b[0;32m<ipython-input-29-3bc697462a28>\u001b[0m in \u001b[0;36mprint_tree\u001b[0;34m(self, node, tabs)\u001b[0m\n\u001b[1;32m     20\u001b[0m         \u001b[0;32mfor\u001b[0m \u001b[0mconnection\u001b[0m\u001b[0;34m,\u001b[0m \u001b[0mchild_node\u001b[0m \u001b[0;32min\u001b[0m \u001b[0mnode\u001b[0m\u001b[0;34m.\u001b[0m\u001b[0mconnections\u001b[0m\u001b[0;34m.\u001b[0m\u001b[0mitems\u001b[0m\u001b[0;34m(\u001b[0m\u001b[0;34m)\u001b[0m\u001b[0;34m:\u001b[0m\u001b[0;34m\u001b[0m\u001b[0;34m\u001b[0m\u001b[0m\n\u001b[1;32m     21\u001b[0m             \u001b[0mprint\u001b[0m\u001b[0;34m(\u001b[0m\u001b[0mtabs\u001b[0m \u001b[0;34m+\u001b[0m \u001b[0;34m\"\\t\"\u001b[0m \u001b[0;34m+\u001b[0m \u001b[0;34m\"(\"\u001b[0m \u001b[0;34m+\u001b[0m \u001b[0mconnection\u001b[0m \u001b[0;34m+\u001b[0m \u001b[0;34m\")\"\u001b[0m\u001b[0;34m)\u001b[0m\u001b[0;34m\u001b[0m\u001b[0;34m\u001b[0m\u001b[0m\n\u001b[0;32m---> 22\u001b[0;31m             \u001b[0mself\u001b[0m\u001b[0;34m.\u001b[0m\u001b[0mprint_tree\u001b[0m\u001b[0;34m(\u001b[0m\u001b[0mchild_node\u001b[0m\u001b[0;34m,\u001b[0m \u001b[0mtabs\u001b[0m \u001b[0;34m+\u001b[0m \u001b[0;34m\"\\t\\t\"\u001b[0m\u001b[0;34m)\u001b[0m\u001b[0;34m\u001b[0m\u001b[0;34m\u001b[0m\u001b[0m\n\u001b[0m\u001b[1;32m     23\u001b[0m \u001b[0;34m\u001b[0m\u001b[0m\n\u001b[1;32m     24\u001b[0m     \u001b[0;32mdef\u001b[0m \u001b[0mconstruct_tree\u001b[0m\u001b[0;34m(\u001b[0m\u001b[0mself\u001b[0m\u001b[0;34m)\u001b[0m\u001b[0;34m:\u001b[0m\u001b[0;34m\u001b[0m\u001b[0;34m\u001b[0m\u001b[0m\n",
      "\u001b[0;32m<ipython-input-29-3bc697462a28>\u001b[0m in \u001b[0;36mprint_tree\u001b[0;34m(self, node, tabs)\u001b[0m\n\u001b[1;32m     20\u001b[0m         \u001b[0;32mfor\u001b[0m \u001b[0mconnection\u001b[0m\u001b[0;34m,\u001b[0m \u001b[0mchild_node\u001b[0m \u001b[0;32min\u001b[0m \u001b[0mnode\u001b[0m\u001b[0;34m.\u001b[0m\u001b[0mconnections\u001b[0m\u001b[0;34m.\u001b[0m\u001b[0mitems\u001b[0m\u001b[0;34m(\u001b[0m\u001b[0;34m)\u001b[0m\u001b[0;34m:\u001b[0m\u001b[0;34m\u001b[0m\u001b[0;34m\u001b[0m\u001b[0m\n\u001b[1;32m     21\u001b[0m             \u001b[0mprint\u001b[0m\u001b[0;34m(\u001b[0m\u001b[0mtabs\u001b[0m \u001b[0;34m+\u001b[0m \u001b[0;34m\"\\t\"\u001b[0m \u001b[0;34m+\u001b[0m \u001b[0;34m\"(\"\u001b[0m \u001b[0;34m+\u001b[0m \u001b[0mconnection\u001b[0m \u001b[0;34m+\u001b[0m \u001b[0;34m\")\"\u001b[0m\u001b[0;34m)\u001b[0m\u001b[0;34m\u001b[0m\u001b[0;34m\u001b[0m\u001b[0m\n\u001b[0;32m---> 22\u001b[0;31m             \u001b[0mself\u001b[0m\u001b[0;34m.\u001b[0m\u001b[0mprint_tree\u001b[0m\u001b[0;34m(\u001b[0m\u001b[0mchild_node\u001b[0m\u001b[0;34m,\u001b[0m \u001b[0mtabs\u001b[0m \u001b[0;34m+\u001b[0m \u001b[0;34m\"\\t\\t\"\u001b[0m\u001b[0;34m)\u001b[0m\u001b[0;34m\u001b[0m\u001b[0;34m\u001b[0m\u001b[0m\n\u001b[0m\u001b[1;32m     23\u001b[0m \u001b[0;34m\u001b[0m\u001b[0m\n\u001b[1;32m     24\u001b[0m     \u001b[0;32mdef\u001b[0m \u001b[0mconstruct_tree\u001b[0m\u001b[0;34m(\u001b[0m\u001b[0mself\u001b[0m\u001b[0;34m)\u001b[0m\u001b[0;34m:\u001b[0m\u001b[0;34m\u001b[0m\u001b[0;34m\u001b[0m\u001b[0m\n",
      "\u001b[0;32m<ipython-input-29-3bc697462a28>\u001b[0m in \u001b[0;36mprint_tree\u001b[0;34m(self, node, tabs)\u001b[0m\n\u001b[1;32m     20\u001b[0m         \u001b[0;32mfor\u001b[0m \u001b[0mconnection\u001b[0m\u001b[0;34m,\u001b[0m \u001b[0mchild_node\u001b[0m \u001b[0;32min\u001b[0m \u001b[0mnode\u001b[0m\u001b[0;34m.\u001b[0m\u001b[0mconnections\u001b[0m\u001b[0;34m.\u001b[0m\u001b[0mitems\u001b[0m\u001b[0;34m(\u001b[0m\u001b[0;34m)\u001b[0m\u001b[0;34m:\u001b[0m\u001b[0;34m\u001b[0m\u001b[0;34m\u001b[0m\u001b[0m\n\u001b[1;32m     21\u001b[0m             \u001b[0mprint\u001b[0m\u001b[0;34m(\u001b[0m\u001b[0mtabs\u001b[0m \u001b[0;34m+\u001b[0m \u001b[0;34m\"\\t\"\u001b[0m \u001b[0;34m+\u001b[0m \u001b[0;34m\"(\"\u001b[0m \u001b[0;34m+\u001b[0m \u001b[0mconnection\u001b[0m \u001b[0;34m+\u001b[0m \u001b[0;34m\")\"\u001b[0m\u001b[0;34m)\u001b[0m\u001b[0;34m\u001b[0m\u001b[0;34m\u001b[0m\u001b[0m\n\u001b[0;32m---> 22\u001b[0;31m             \u001b[0mself\u001b[0m\u001b[0;34m.\u001b[0m\u001b[0mprint_tree\u001b[0m\u001b[0;34m(\u001b[0m\u001b[0mchild_node\u001b[0m\u001b[0;34m,\u001b[0m \u001b[0mtabs\u001b[0m \u001b[0;34m+\u001b[0m \u001b[0;34m\"\\t\\t\"\u001b[0m\u001b[0;34m)\u001b[0m\u001b[0;34m\u001b[0m\u001b[0;34m\u001b[0m\u001b[0m\n\u001b[0m\u001b[1;32m     23\u001b[0m \u001b[0;34m\u001b[0m\u001b[0m\n\u001b[1;32m     24\u001b[0m     \u001b[0;32mdef\u001b[0m \u001b[0mconstruct_tree\u001b[0m\u001b[0;34m(\u001b[0m\u001b[0mself\u001b[0m\u001b[0;34m)\u001b[0m\u001b[0;34m:\u001b[0m\u001b[0;34m\u001b[0m\u001b[0;34m\u001b[0m\u001b[0m\n",
      "\u001b[0;32m<ipython-input-29-3bc697462a28>\u001b[0m in \u001b[0;36mprint_tree\u001b[0;34m(self, node, tabs)\u001b[0m\n\u001b[1;32m     20\u001b[0m         \u001b[0;32mfor\u001b[0m \u001b[0mconnection\u001b[0m\u001b[0;34m,\u001b[0m \u001b[0mchild_node\u001b[0m \u001b[0;32min\u001b[0m \u001b[0mnode\u001b[0m\u001b[0;34m.\u001b[0m\u001b[0mconnections\u001b[0m\u001b[0;34m.\u001b[0m\u001b[0mitems\u001b[0m\u001b[0;34m(\u001b[0m\u001b[0;34m)\u001b[0m\u001b[0;34m:\u001b[0m\u001b[0;34m\u001b[0m\u001b[0;34m\u001b[0m\u001b[0m\n\u001b[1;32m     21\u001b[0m             \u001b[0mprint\u001b[0m\u001b[0;34m(\u001b[0m\u001b[0mtabs\u001b[0m \u001b[0;34m+\u001b[0m \u001b[0;34m\"\\t\"\u001b[0m \u001b[0;34m+\u001b[0m \u001b[0;34m\"(\"\u001b[0m \u001b[0;34m+\u001b[0m \u001b[0mconnection\u001b[0m \u001b[0;34m+\u001b[0m \u001b[0;34m\")\"\u001b[0m\u001b[0;34m)\u001b[0m\u001b[0;34m\u001b[0m\u001b[0;34m\u001b[0m\u001b[0m\n\u001b[0;32m---> 22\u001b[0;31m             \u001b[0mself\u001b[0m\u001b[0;34m.\u001b[0m\u001b[0mprint_tree\u001b[0m\u001b[0;34m(\u001b[0m\u001b[0mchild_node\u001b[0m\u001b[0;34m,\u001b[0m \u001b[0mtabs\u001b[0m \u001b[0;34m+\u001b[0m \u001b[0;34m\"\\t\\t\"\u001b[0m\u001b[0;34m)\u001b[0m\u001b[0;34m\u001b[0m\u001b[0;34m\u001b[0m\u001b[0m\n\u001b[0m\u001b[1;32m     23\u001b[0m \u001b[0;34m\u001b[0m\u001b[0m\n\u001b[1;32m     24\u001b[0m     \u001b[0;32mdef\u001b[0m \u001b[0mconstruct_tree\u001b[0m\u001b[0;34m(\u001b[0m\u001b[0mself\u001b[0m\u001b[0;34m)\u001b[0m\u001b[0;34m:\u001b[0m\u001b[0;34m\u001b[0m\u001b[0;34m\u001b[0m\u001b[0m\n",
      "\u001b[0;32m<ipython-input-29-3bc697462a28>\u001b[0m in \u001b[0;36mprint_tree\u001b[0;34m(self, node, tabs)\u001b[0m\n\u001b[1;32m     19\u001b[0m         \u001b[0mprint\u001b[0m\u001b[0;34m(\u001b[0m\u001b[0mtabs\u001b[0m \u001b[0;34m+\u001b[0m \u001b[0mnode\u001b[0m\u001b[0;34m.\u001b[0m\u001b[0mname\u001b[0m\u001b[0;34m)\u001b[0m\u001b[0;34m\u001b[0m\u001b[0;34m\u001b[0m\u001b[0m\n\u001b[1;32m     20\u001b[0m         \u001b[0;32mfor\u001b[0m \u001b[0mconnection\u001b[0m\u001b[0;34m,\u001b[0m \u001b[0mchild_node\u001b[0m \u001b[0;32min\u001b[0m \u001b[0mnode\u001b[0m\u001b[0;34m.\u001b[0m\u001b[0mconnections\u001b[0m\u001b[0;34m.\u001b[0m\u001b[0mitems\u001b[0m\u001b[0;34m(\u001b[0m\u001b[0;34m)\u001b[0m\u001b[0;34m:\u001b[0m\u001b[0;34m\u001b[0m\u001b[0;34m\u001b[0m\u001b[0m\n\u001b[0;32m---> 21\u001b[0;31m             \u001b[0mprint\u001b[0m\u001b[0;34m(\u001b[0m\u001b[0mtabs\u001b[0m \u001b[0;34m+\u001b[0m \u001b[0;34m\"\\t\"\u001b[0m \u001b[0;34m+\u001b[0m \u001b[0;34m\"(\"\u001b[0m \u001b[0;34m+\u001b[0m \u001b[0mconnection\u001b[0m \u001b[0;34m+\u001b[0m \u001b[0;34m\")\"\u001b[0m\u001b[0;34m)\u001b[0m\u001b[0;34m\u001b[0m\u001b[0;34m\u001b[0m\u001b[0m\n\u001b[0m\u001b[1;32m     22\u001b[0m             \u001b[0mself\u001b[0m\u001b[0;34m.\u001b[0m\u001b[0mprint_tree\u001b[0m\u001b[0;34m(\u001b[0m\u001b[0mchild_node\u001b[0m\u001b[0;34m,\u001b[0m \u001b[0mtabs\u001b[0m \u001b[0;34m+\u001b[0m \u001b[0;34m\"\\t\\t\"\u001b[0m\u001b[0;34m)\u001b[0m\u001b[0;34m\u001b[0m\u001b[0;34m\u001b[0m\u001b[0m\n\u001b[1;32m     23\u001b[0m \u001b[0;34m\u001b[0m\u001b[0m\n",
      "\u001b[0;31mTypeError\u001b[0m: can only concatenate str (not \"numpy.bool_\") to str"
     ]
    }
   ],
   "source": [
    "tree1 = ID3Tree(df, 'play')\n",
    "tree1.construct_tree()\n",
    "tree1.print_tree(tree1.root, \"\")"
   ]
  },
  {
   "cell_type": "code",
   "execution_count": null,
   "metadata": {},
   "outputs": [],
   "source": []
  }
 ],
 "metadata": {
  "kernelspec": {
   "display_name": "Python 3",
   "language": "python",
   "name": "python3"
  },
  "language_info": {
   "codemirror_mode": {
    "name": "ipython",
    "version": 3
   },
   "file_extension": ".py",
   "mimetype": "text/x-python",
   "name": "python",
   "nbconvert_exporter": "python",
   "pygments_lexer": "ipython3",
   "version": "3.7.5-final"
  },
  "toc": {
   "base_numbering": 1,
   "nav_menu": {},
   "number_sections": true,
   "sideBar": true,
   "skip_h1_title": false,
   "title_cell": "Table of Contents",
   "title_sidebar": "Contents",
   "toc_cell": false,
   "toc_position": {},
   "toc_section_display": true,
   "toc_window_display": false
  }
 },
 "nbformat": 4,
 "nbformat_minor": 2
}